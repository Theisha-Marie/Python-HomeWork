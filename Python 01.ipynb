{
 "cells": [
  {
   "cell_type": "markdown",
   "id": "630e7a18",
   "metadata": {},
   "source": [
    "<b> Exercises for Python Module 1 </b>\n",
    "\n",
    "Make sure to comment all your code!"
   ]
  },
  {
   "cell_type": "markdown",
   "id": "27e339a6",
   "metadata": {},
   "source": [
    "Accept the user's first and last name and print them in reverse order with a space between them. \n",
    "\n",
    "Keyword hints: print function, input function, append, add, string"
   ]
  },
  {
   "cell_type": "code",
   "execution_count": null,
   "id": "622a3ae7",
   "metadata": {},
   "outputs": [],
   "source": [
    "first_name = input(\"Enter your first name: \")\n",
    "last_name = input(\"Enter your last name: \")\n",
    "\n",
    "full_name = last_name + \" \" + first_name\n",
    "\n",
    "print(full_name)"
   ]
  },
  {
   "cell_type": "markdown",
   "id": "ea977dfc",
   "metadata": {},
   "source": [
    "Ask the user \"What country are you from?\" then print the following statement: \"I have heard that [input] is a beautiful country!\""
   ]
  },
  {
   "cell_type": "code",
   "execution_count": null,
   "id": "f6b2cc68",
   "metadata": {},
   "outputs": [],
   "source": [
    "country = input(\"What country are you from? \")\n",
    "\n",
    "print(\"I have heard that \" + country + \" is a beautiful country!\")"
   ]
  },
  {
   "cell_type": "markdown",
   "id": "217d837d",
   "metadata": {},
   "source": [
    "Explain the output for:\n",
    "\n",
    "x = 36 / 4 * (3 +  2) * 4 + 2"
   ]
  },
  {
   "cell_type": "code",
   "execution_count": null,
   "id": "8247422a",
   "metadata": {},
   "outputs": [],
   "source": [
    "x = 36 / 4 * (3 + 2) * 4 + 2\n",
    "print(x)"
   ]
  },
  {
   "cell_type": "markdown",
   "id": "7b77d65d",
   "metadata": {},
   "source": [
    "What is the output of the following code and what arithmetic operators is being used here? \n",
    "\n",
    "print(2%6)"
   ]
  },
  {
   "cell_type": "code",
   "execution_count": null,
   "id": "a819b258",
   "metadata": {},
   "outputs": [],
   "source": [
    "print(2%6)"
   ]
  },
  {
   "cell_type": "markdown",
   "id": "b2f2fe38",
   "metadata": {},
   "source": [
    "What is the output of the following code and what arithmetic operators are used here? \n",
    "\n",
    "print(2 * 3 ** 3 * 4)"
   ]
  },
  {
   "cell_type": "code",
   "execution_count": null,
   "id": "5a218db8",
   "metadata": {},
   "outputs": [],
   "source": [
    "print(2 * 3 ** 3 * 4)"
   ]
  },
  {
   "cell_type": "markdown",
   "id": "c7ccc477",
   "metadata": {},
   "source": [
    "Accept an integer (n) and compute the value of n+nn+nnn. For example, if n = 4, then n+nn+nnn should equal 492. \n",
    "\n",
    "Keyword hints: Hint(4+44+444)"
   ]
  },
  {
   "cell_type": "code",
   "execution_count": null,
   "id": "34078483",
   "metadata": {},
   "outputs": [],
   "source": [
    "n = int(input(\"Enter an integer (n): \"))\n",
    "\n",
    "nn = n * 10 + n\n",
    "nnn = nn * 10 + n\n",
    "\n",
    "result = n + nn + nnn\n",
    "print(\"The result is:\", result)\n"
   ]
  },
  {
   "cell_type": "markdown",
   "id": "cc9d29ed",
   "metadata": {},
   "source": [
    "What is an IDE?"
   ]
  },
  {
   "cell_type": "code",
   "execution_count": null,
   "id": "8bd82147",
   "metadata": {},
   "outputs": [],
   "source": [
    "An IDE, or Integrated Development Environment. Xcode, VSCode "
   ]
  },
  {
   "cell_type": "markdown",
   "id": "f702b1de",
   "metadata": {},
   "source": [
    "What is a Text Editor?"
   ]
  },
  {
   "cell_type": "code",
   "execution_count": null,
   "id": "8376072d",
   "metadata": {},
   "outputs": [],
   "source": [
    "A text editor is a software application specifically designed for creating and editing plain text files. It provides a minimalistic interface that allows users to write and modify text without any formatting or styling. Sublime text and Atom."
   ]
  },
  {
   "cell_type": "markdown",
   "id": "bc31d150",
   "metadata": {},
   "source": [
    "What is  filepath?"
   ]
  },
  {
   "cell_type": "code",
   "execution_count": null,
   "id": "1526b4ee",
   "metadata": {},
   "outputs": [],
   "source": [
    "A filepath, also known as a file path or file location, refers to the specific location of a file or directory within a file system. It is a string or text representation that describes the hierarchical structure and naming of files and directories in a computer's storage.\n",
    "\n",
    "C:\\Users\\Marie\\Documents\\example.txt\n"
   ]
  },
  {
   "cell_type": "markdown",
   "id": "1a8bf765",
   "metadata": {},
   "source": [
    "Describe Python as a programming language?"
   ]
  },
  {
   "cell_type": "code",
   "execution_count": null,
   "id": "fd96c663",
   "metadata": {},
   "outputs": [],
   "source": [
    "Python is a high-level, interpreted, and dynamically typed programming language"
   ]
  },
  {
   "cell_type": "markdown",
   "id": "479cc46c",
   "metadata": {},
   "source": [
    "What is Jupyter Notebook, and how does it differ from other IDEs such as VSCode?"
   ]
  },
  {
   "cell_type": "code",
   "execution_count": null,
   "id": "b0ab1b33",
   "metadata": {},
   "outputs": [],
   "source": [
    "Jupyter Notebook is an open-source web application that allows users to create and share documents that contain live code, equations, visualizations, and narrative text\n",
    "VSCode is a general-purpose IDE. "
   ]
  },
  {
   "cell_type": "markdown",
   "id": "8b78b231",
   "metadata": {},
   "source": [
    "What is the difference between a \"code\" cell (at the top of your notebook) and a \"markdown\" cell?"
   ]
  },
  {
   "cell_type": "code",
   "execution_count": null,
   "id": "e2fad868",
   "metadata": {},
   "outputs": [],
   "source": [
    "Code cells are used for writing and executing code and Markdown cells are used for creating and displaying formatted text, documentation, explanations, and other narrative content. "
   ]
  },
  {
   "cell_type": "markdown",
   "id": "d4fcc215",
   "metadata": {},
   "source": [
    "Describe each operator catagory: (Notebook 01_03)"
   ]
  },
  {
   "cell_type": "code",
   "execution_count": null,
   "id": "e342b817",
   "metadata": {},
   "outputs": [],
   "source": [
    "\n",
    "In Jupyter Notebook 01_03, the operators can be categorized into the following categories:\n",
    "\n",
    "Arithmetic Operators: These operators perform mathematical operations such as addition (+), subtraction (-), multiplication (*), division (/), and more.\n",
    "Assignment Operators: These operators are used to assign values to variables. Examples include the assignment operator (=), compound assignment operators like += (add and assign), -= (subtract and assign), and so on.\n",
    "Comparison Operators: These operators compare two values and return a Boolean result (True or False). Examples include equality (==), inequality (!=), greater than (>), less than (<), and more.\n",
    "Logical Operators: These operators are used to combine multiple conditions and evaluate the overall truth value. Logical operators include AND (&&), OR (||), and NOT (!)."
   ]
  },
  {
   "cell_type": "markdown",
   "id": "7d048f8c",
   "metadata": {},
   "source": [
    "Describe what the phrase \"everything is an object\" means in Python; what is an object?"
   ]
  },
  {
   "cell_type": "code",
   "execution_count": null,
   "id": "185d1f68",
   "metadata": {},
   "outputs": [],
   "source": [
    "The phrase \"everything is an object\" is a fundamental principle in Python that reflects its object-oriented nature. In Python, an object is a specific instance of a class, which is a blueprint or template defining the characteristics and behaviors of a particular type of object. Every value or entity in Python, including numbers, strings, lists, functions, and even modules, is considered an object."
   ]
  }
 ],
 "metadata": {
  "kernelspec": {
   "display_name": "Python 3 (ipykernel)",
   "language": "python",
   "name": "python3"
  },
  "language_info": {
   "codemirror_mode": {
    "name": "ipython",
    "version": 3
   },
   "file_extension": ".py",
   "mimetype": "text/x-python",
   "name": "python",
   "nbconvert_exporter": "python",
   "pygments_lexer": "ipython3",
   "version": "3.10.9"
  }
 },
 "nbformat": 4,
 "nbformat_minor": 5
}
