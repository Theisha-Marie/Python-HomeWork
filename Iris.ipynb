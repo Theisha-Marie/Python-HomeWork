{
 "cells": [
  {
   "cell_type": "code",
   "execution_count": 1,
   "id": "361e9212",
   "metadata": {},
   "outputs": [],
   "source": [
    "#Step 1. Import the necessary libraries\n",
    "\n",
    "import pandas as pd \n",
    "import numpy as np"
   ]
  },
  {
   "cell_type": "code",
   "execution_count": 2,
   "id": "bb89c523",
   "metadata": {},
   "outputs": [
    {
     "data": {
      "text/html": [
       "<div>\n",
       "<style scoped>\n",
       "    .dataframe tbody tr th:only-of-type {\n",
       "        vertical-align: middle;\n",
       "    }\n",
       "\n",
       "    .dataframe tbody tr th {\n",
       "        vertical-align: top;\n",
       "    }\n",
       "\n",
       "    .dataframe thead th {\n",
       "        text-align: right;\n",
       "    }\n",
       "</style>\n",
       "<table border=\"1\" class=\"dataframe\">\n",
       "  <thead>\n",
       "    <tr style=\"text-align: right;\">\n",
       "      <th></th>\n",
       "      <th>5.1</th>\n",
       "      <th>3.5</th>\n",
       "      <th>1.4</th>\n",
       "      <th>0.2</th>\n",
       "      <th>Iris-setosa</th>\n",
       "    </tr>\n",
       "  </thead>\n",
       "  <tbody>\n",
       "    <tr>\n",
       "      <th>0</th>\n",
       "      <td>4.9</td>\n",
       "      <td>3.0</td>\n",
       "      <td>1.4</td>\n",
       "      <td>0.2</td>\n",
       "      <td>Iris-setosa</td>\n",
       "    </tr>\n",
       "    <tr>\n",
       "      <th>1</th>\n",
       "      <td>4.7</td>\n",
       "      <td>3.2</td>\n",
       "      <td>1.3</td>\n",
       "      <td>0.2</td>\n",
       "      <td>Iris-setosa</td>\n",
       "    </tr>\n",
       "    <tr>\n",
       "      <th>2</th>\n",
       "      <td>4.6</td>\n",
       "      <td>3.1</td>\n",
       "      <td>1.5</td>\n",
       "      <td>0.2</td>\n",
       "      <td>Iris-setosa</td>\n",
       "    </tr>\n",
       "    <tr>\n",
       "      <th>3</th>\n",
       "      <td>5.0</td>\n",
       "      <td>3.6</td>\n",
       "      <td>1.4</td>\n",
       "      <td>0.2</td>\n",
       "      <td>Iris-setosa</td>\n",
       "    </tr>\n",
       "    <tr>\n",
       "      <th>4</th>\n",
       "      <td>5.4</td>\n",
       "      <td>3.9</td>\n",
       "      <td>1.7</td>\n",
       "      <td>0.4</td>\n",
       "      <td>Iris-setosa</td>\n",
       "    </tr>\n",
       "  </tbody>\n",
       "</table>\n",
       "</div>"
      ],
      "text/plain": [
       "   5.1  3.5  1.4  0.2  Iris-setosa\n",
       "0  4.9  3.0  1.4  0.2  Iris-setosa\n",
       "1  4.7  3.2  1.3  0.2  Iris-setosa\n",
       "2  4.6  3.1  1.5  0.2  Iris-setosa\n",
       "3  5.0  3.6  1.4  0.2  Iris-setosa\n",
       "4  5.4  3.9  1.7  0.4  Iris-setosa"
      ]
     },
     "execution_count": 2,
     "metadata": {},
     "output_type": "execute_result"
    }
   ],
   "source": [
    "#Step 2. Import the dataset from this address.\n",
    "#Step 3. Assign it to a variable called iris\n",
    "\n",
    "url ='https://archive.ics.uci.edu/ml/machine-learning-databases/iris/iris.data'\n",
    "iris = pd.read_csv(url)\n",
    "\n",
    "iris.head()"
   ]
  },
  {
   "cell_type": "code",
   "execution_count": 10,
   "id": "83d3850c",
   "metadata": {},
   "outputs": [
    {
     "name": "stdout",
     "output_type": "stream",
     "text": [
      "     sepal_length  sepal_width  petal_length  petal_width           class\n",
      "0             5.1          3.5           1.4          0.2     Iris-setosa\n",
      "1             4.9          3.0           1.4          0.2     Iris-setosa\n",
      "2             4.7          3.2           1.3          0.2     Iris-setosa\n",
      "3             4.6          3.1           1.5          0.2     Iris-setosa\n",
      "4             5.0          3.6           1.4          0.2     Iris-setosa\n",
      "..            ...          ...           ...          ...             ...\n",
      "145           6.7          3.0           5.2          2.3  Iris-virginica\n",
      "146           6.3          2.5           5.0          1.9  Iris-virginica\n",
      "147           6.5          3.0           5.2          2.0  Iris-virginica\n",
      "148           6.2          3.4           5.4          2.3  Iris-virginica\n",
      "149           5.9          3.0           5.1          1.8  Iris-virginica\n",
      "\n",
      "[150 rows x 5 columns]\n"
     ]
    }
   ],
   "source": [
    "#Step 4. Create columns for the dataset\n",
    "\n",
    "column_names = ['sepal_length', 'sepal_width', 'petal_length', 'petal_width', 'class']\n",
    "iris = pd.read_csv(url, header=None, names=column_names)\n",
    "\n",
    "# Print the DataFrame\n",
    "print(iris)\n"
   ]
  },
  {
   "cell_type": "code",
   "execution_count": 11,
   "id": "db012dbc",
   "metadata": {},
   "outputs": [
    {
     "name": "stdout",
     "output_type": "stream",
     "text": [
      "Missing values in the DataFrame:\n",
      "sepal_length    0\n",
      "sepal_width     0\n",
      "petal_length    0\n",
      "petal_width     0\n",
      "class           0\n",
      "dtype: int64\n"
     ]
    }
   ],
   "source": [
    "#Step 5. Is there any missing value in the dataframe?\n",
    "\n",
    "# Check for missing values in the DataFrame\n",
    "missing_values = iris.isnull().sum()\n",
    "\n",
    "print(\"Missing values in the DataFrame:\")\n",
    "print(missing_values)\n"
   ]
  },
  {
   "cell_type": "code",
   "execution_count": 12,
   "id": "f42ba43c",
   "metadata": {},
   "outputs": [
    {
     "name": "stdout",
     "output_type": "stream",
     "text": [
      "    sepal_length  sepal_width  petal_length  petal_width        class\n",
      "0            5.1          3.5           1.4          0.2  Iris-setosa\n",
      "1            4.9          3.0           1.4          0.2  Iris-setosa\n",
      "2            4.7          3.2           1.3          0.2  Iris-setosa\n",
      "3            4.6          3.1           1.5          0.2  Iris-setosa\n",
      "4            5.0          3.6           1.4          0.2  Iris-setosa\n",
      "5            5.4          3.9           1.7          0.4  Iris-setosa\n",
      "6            4.6          3.4           1.4          0.3  Iris-setosa\n",
      "7            5.0          3.4           1.5          0.2  Iris-setosa\n",
      "8            4.4          2.9           1.4          0.2  Iris-setosa\n",
      "9            4.9          3.1           1.5          0.1  Iris-setosa\n",
      "10           5.4          3.7           NaN          0.2  Iris-setosa\n",
      "11           4.8          3.4           NaN          0.2  Iris-setosa\n",
      "12           4.8          3.0           NaN          0.1  Iris-setosa\n",
      "13           4.3          3.0           NaN          0.1  Iris-setosa\n",
      "14           5.8          4.0           NaN          0.2  Iris-setosa\n",
      "15           5.7          4.4           NaN          0.4  Iris-setosa\n",
      "16           5.4          3.9           NaN          0.4  Iris-setosa\n",
      "17           5.1          3.5           NaN          0.3  Iris-setosa\n",
      "18           5.7          3.8           NaN          0.3  Iris-setosa\n",
      "19           5.1          3.8           NaN          0.3  Iris-setosa\n",
      "20           5.4          3.4           NaN          0.2  Iris-setosa\n",
      "21           5.1          3.7           NaN          0.4  Iris-setosa\n",
      "22           4.6          3.6           NaN          0.2  Iris-setosa\n",
      "23           5.1          3.3           NaN          0.5  Iris-setosa\n",
      "24           4.8          3.4           NaN          0.2  Iris-setosa\n",
      "25           5.0          3.0           NaN          0.2  Iris-setosa\n",
      "26           5.0          3.4           NaN          0.4  Iris-setosa\n",
      "27           5.2          3.5           NaN          0.2  Iris-setosa\n",
      "28           5.2          3.4           NaN          0.2  Iris-setosa\n",
      "29           4.7          3.2           NaN          0.2  Iris-setosa\n"
     ]
    }
   ],
   "source": [
    "#Step 6. Lets set the values of the rows 10 to 29 of the column 'petal_length' to NaN\n",
    "\n",
    "# Set rows 10 to 29 of 'petal_length' column to NaN\n",
    "iris.loc[10:29, 'petal_length'] = float('NaN')\n",
    "\n",
    "# Print the DataFrame to check the changes\n",
    "print(iris.head(30))"
   ]
  },
  {
   "cell_type": "code",
   "execution_count": 13,
   "id": "66fbface",
   "metadata": {},
   "outputs": [
    {
     "name": "stdout",
     "output_type": "stream",
     "text": [
      "    sepal_length  sepal_width  petal_length  petal_width        class\n",
      "0            5.1          3.5           1.4          0.2  Iris-setosa\n",
      "1            4.9          3.0           1.4          0.2  Iris-setosa\n",
      "2            4.7          3.2           1.3          0.2  Iris-setosa\n",
      "3            4.6          3.1           1.5          0.2  Iris-setosa\n",
      "4            5.0          3.6           1.4          0.2  Iris-setosa\n",
      "5            5.4          3.9           1.7          0.4  Iris-setosa\n",
      "6            4.6          3.4           1.4          0.3  Iris-setosa\n",
      "7            5.0          3.4           1.5          0.2  Iris-setosa\n",
      "8            4.4          2.9           1.4          0.2  Iris-setosa\n",
      "9            4.9          3.1           1.5          0.1  Iris-setosa\n",
      "10           5.4          3.7           1.0          0.2  Iris-setosa\n",
      "11           4.8          3.4           1.0          0.2  Iris-setosa\n",
      "12           4.8          3.0           1.0          0.1  Iris-setosa\n",
      "13           4.3          3.0           1.0          0.1  Iris-setosa\n",
      "14           5.8          4.0           1.0          0.2  Iris-setosa\n",
      "15           5.7          4.4           1.0          0.4  Iris-setosa\n",
      "16           5.4          3.9           1.0          0.4  Iris-setosa\n",
      "17           5.1          3.5           1.0          0.3  Iris-setosa\n",
      "18           5.7          3.8           1.0          0.3  Iris-setosa\n",
      "19           5.1          3.8           1.0          0.3  Iris-setosa\n",
      "20           5.4          3.4           1.0          0.2  Iris-setosa\n",
      "21           5.1          3.7           1.0          0.4  Iris-setosa\n",
      "22           4.6          3.6           1.0          0.2  Iris-setosa\n",
      "23           5.1          3.3           1.0          0.5  Iris-setosa\n",
      "24           4.8          3.4           1.0          0.2  Iris-setosa\n",
      "25           5.0          3.0           1.0          0.2  Iris-setosa\n",
      "26           5.0          3.4           1.0          0.4  Iris-setosa\n",
      "27           5.2          3.5           1.0          0.2  Iris-setosa\n",
      "28           5.2          3.4           1.0          0.2  Iris-setosa\n",
      "29           4.7          3.2           1.0          0.2  Iris-setosa\n"
     ]
    }
   ],
   "source": [
    "#Step 7. Good, now lets substitute the NaN values to 1.0\n",
    "\n",
    "# Set rows 10 to 29 of 'petal_length' column to NaN\n",
    "iris.loc[10:29, 'petal_length'] = float('NaN')\n",
    "\n",
    "# Substitute NaN values in 'petal_length' with 1.0\n",
    "iris['petal_length'].fillna(1.0, inplace=True)\n",
    "\n",
    "# Print the DataFrame to check the changes\n",
    "print(iris.head(30))"
   ]
  },
  {
   "cell_type": "code",
   "execution_count": 14,
   "id": "eb88ff0f",
   "metadata": {},
   "outputs": [
    {
     "name": "stdout",
     "output_type": "stream",
     "text": [
      "   sepal_length  sepal_width  petal_length  petal_width\n",
      "0           5.1          3.5           1.4          0.2\n",
      "1           4.9          3.0           1.4          0.2\n",
      "2           4.7          3.2           1.3          0.2\n",
      "3           4.6          3.1           1.5          0.2\n",
      "4           5.0          3.6           1.4          0.2\n"
     ]
    }
   ],
   "source": [
    "#Step 8. Now let's delete the column class\n",
    "\n",
    "iris.loc[10:29, 'petal_length'] = float('NaN')\n",
    "\n",
    "# Substitute NaN values in 'petal_length' with 1.0\n",
    "iris['petal_length'].fillna(1.0, inplace=True)\n",
    "\n",
    "# Delete the 'class' column\n",
    "iris.drop('class', axis=1, inplace=True)\n",
    "\n",
    "# Print the DataFrame to check the changes\n",
    "print(iris.head())"
   ]
  },
  {
   "cell_type": "code",
   "execution_count": 15,
   "id": "e510038d",
   "metadata": {},
   "outputs": [
    {
     "name": "stdout",
     "output_type": "stream",
     "text": [
      "   sepal_length  sepal_width  petal_length  petal_width\n",
      "0           NaN          NaN           NaN          NaN\n",
      "1           NaN          NaN           NaN          NaN\n",
      "2           NaN          NaN           NaN          NaN\n",
      "3           4.6          3.1           1.5          0.2\n",
      "4           5.0          3.6           1.4          0.2\n"
     ]
    }
   ],
   "source": [
    "#Step 9. Set the first 3 rows as NaN\n",
    "\n",
    "# Set the first 3 rows as NaN\n",
    "iris.iloc[:3, :] = float('NaN')\n",
    "\n",
    "# Print the DataFrame to check the changes\n",
    "print(iris.head())"
   ]
  },
  {
   "cell_type": "code",
   "execution_count": 16,
   "id": "c692d3ab",
   "metadata": {},
   "outputs": [
    {
     "name": "stdout",
     "output_type": "stream",
     "text": [
      "   sepal_length  sepal_width  petal_length  petal_width\n",
      "3           4.6          3.1           1.5          0.2\n",
      "4           5.0          3.6           1.4          0.2\n",
      "5           5.4          3.9           1.7          0.4\n",
      "6           4.6          3.4           1.4          0.3\n",
      "7           5.0          3.4           1.5          0.2\n"
     ]
    }
   ],
   "source": [
    "#Step 10. Delete the rows that have NaN\n",
    "\n",
    "# Set the first 3 rows as NaN\n",
    "iris.iloc[:3, :] = float('NaN')\n",
    "\n",
    "# Delete the rows with NaN values\n",
    "iris.dropna(inplace=True)\n",
    "\n",
    "# Print the DataFrame to check the changes\n",
    "print(iris.head())"
   ]
  },
  {
   "cell_type": "code",
   "execution_count": 17,
   "id": "6da8b276",
   "metadata": {},
   "outputs": [
    {
     "name": "stdout",
     "output_type": "stream",
     "text": [
      "   sepal_length  sepal_width  petal_length  petal_width\n",
      "0           4.6          3.1           1.5          0.2\n",
      "1           5.0          3.6           1.4          0.2\n",
      "2           5.4          3.9           1.7          0.4\n",
      "3           4.6          3.4           1.4          0.3\n",
      "4           5.0          3.4           1.5          0.2\n"
     ]
    }
   ],
   "source": [
    "#Step 11. Reset the index so it begins with 0 again\n",
    "\n",
    "# Delete the rows with NaN values\n",
    "iris.dropna(inplace=True)\n",
    "\n",
    "# Reset the index to begin with 0 again\n",
    "iris.reset_index(drop=True, inplace=True)\n",
    "\n",
    "# Print the DataFrame to check the changes\n",
    "print(iris.head())"
   ]
  },
  {
   "cell_type": "code",
   "execution_count": 18,
   "id": "7d686605",
   "metadata": {},
   "outputs": [
    {
     "name": "stdout",
     "output_type": "stream",
     "text": [
      "      Name  Age  Salary\n",
      "0    Alice   25   50000\n",
      "1      Bob   22   60000\n",
      "2  Charlie   27   45000\n",
      "3    David   20   70000\n",
      "4      Eva   24   55000\n"
     ]
    }
   ],
   "source": [
    "#BONUS: Create your own question and answer it.\n",
    "#Sort the DataFrame based on a specific column in ascending order.\n",
    "\n",
    "import pandas as pd\n",
    "\n",
    "data = {\n",
    "    'Name': ['Alice', 'Bob', 'Charlie', 'David', 'Eva'],\n",
    "    'Age': [25, 22, 27, 20, 24],\n",
    "    'Salary': [50000, 60000, 45000, 70000, 55000]\n",
    "}\n",
    "\n",
    "df = pd.DataFrame(data)\n",
    "print(df)\n"
   ]
  }
 ],
 "metadata": {
  "kernelspec": {
   "display_name": "Python 3 (ipykernel)",
   "language": "python",
   "name": "python3"
  },
  "language_info": {
   "codemirror_mode": {
    "name": "ipython",
    "version": 3
   },
   "file_extension": ".py",
   "mimetype": "text/x-python",
   "name": "python",
   "nbconvert_exporter": "python",
   "pygments_lexer": "ipython3",
   "version": "3.10.9"
  }
 },
 "nbformat": 4,
 "nbformat_minor": 5
}
