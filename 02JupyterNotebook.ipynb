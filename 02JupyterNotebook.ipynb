{
 "cells": [
  {
   "cell_type": "code",
   "execution_count": 2,
   "id": "55a1952a",
   "metadata": {},
   "outputs": [
    {
     "name": "stdout",
     "output_type": "stream",
     "text": [
      "[6, 12, 18, 4, 12, 20, 28]\n"
     ]
    }
   ],
   "source": [
    "listOne = [3,6,9,12,15,18,21]\n",
    "listTwo = [4,8,12,16,20,24,28]\n",
    "odd_elements = listOne[1::2]\n",
    "even_elements = listTwo[::2]\n",
    "third_list = odd_elements + even_elements\n",
    "print(third_list)"
   ]
  },
  {
   "cell_type": "code",
   "execution_count": 4,
   "id": "4ec3c175",
   "metadata": {},
   "outputs": [
    {
     "name": "stdout",
     "output_type": "stream",
     "text": [
      "Chunk 1: [8, 45, 11]\n",
      "Chunk 2: [12, 14, 23]\n",
      "Chunk 3: [89, 45, 78]\n"
     ]
    }
   ],
   "source": [
    "sampleList = [11, 45, 8, 23, 14, 12, 78, 45, 89]\n",
    "\n",
    "chunks = len(sampleList) // 3  #calculate size of each chunk\n",
    "\n",
    "chunk1 = sampleList[:chunks][::-1]  #reverse the chunks\n",
    "chunk2 = sampleList[chunks:2*chunks][::-1]\n",
    "chunk3 = sampleList[2*chunks:][::-1] \n",
    "\n",
    "print(\"Chunk 1:\", chunk1)\n",
    "print(\"Chunk 2:\", chunk2)\n",
    "print(\"Chunk 3:\", chunk3)"
   ]
  },
  {
   "cell_type": "code",
   "execution_count": 5,
   "id": "20c10ca4",
   "metadata": {},
   "outputs": [
    {
     "name": "stdout",
     "output_type": "stream",
     "text": [
      "Updated rollNumber list: [47, 69, 76, 97]\n"
     ]
    }
   ],
   "source": [
    "rollNumber = [47, 64, 69, 37, 76, 83, 95, 97]\n",
    "sampleDict = {'Zach': 47, 'Emma': 69, 'Kelly': 76, 'Jason': 97}\n",
    "\n",
    "# Iterate through the list and check if each element exists in the dictionary\n",
    "for num in rollNumber[:]:  # Iterate over a copy of the list to avoid modifying it during iteration\n",
    "    if num not in sampleDict.values():\n",
    "        rollNumber.remove(num)\n",
    "\n",
    "print(\"Updated rollNumber list:\", rollNumber)\n"
   ]
  },
  {
   "cell_type": "code",
   "execution_count": 6,
   "id": "d96d365f",
   "metadata": {},
   "outputs": [
    {
     "name": "stdout",
     "output_type": "stream",
     "text": [
      "Product: 120\n"
     ]
    }
   ],
   "source": [
    "def multiply_list_numbers(lst):\n",
    "    result = 1  # Initialize the result as 1\n",
    "\n",
    "    for num in lst:\n",
    "        result *= num  # Multiply each number with the result\n",
    "\n",
    "    return result\n",
    "\n",
    "# Example usage\n",
    "my_list = [2, 3, 4, 5]\n",
    "product = multiply_list_numbers(my_list)\n",
    "print(\"Product:\", product)\n"
   ]
  },
  {
   "cell_type": "code",
   "execution_count": 8,
   "id": "de456dbb",
   "metadata": {},
   "outputs": [
    {
     "name": "stdout",
     "output_type": "stream",
     "text": [
      "Original string: Hello, World!\n"
     ]
    }
   ],
   "source": [
    "def unreverse_string(reversed_string):\n",
    "    original_string = reversed_string[::-1]\n",
    "    return original_string\n",
    "\n",
    "# Example usage\n",
    "reversed_string = \"!dlroW ,olleH\"\n",
    "original_string = unreverse_string(reversed_string)\n",
    "print(\"Original string:\", original_string)\n",
    "\n"
   ]
  },
  {
   "cell_type": "code",
   "execution_count": 9,
   "id": "7b10782d",
   "metadata": {},
   "outputs": [
    {
     "name": "stdout",
     "output_type": "stream",
     "text": [
      "<class 'int'>\n"
     ]
    }
   ],
   "source": [
    "# Integer example\n",
    "my_integer = 42\n",
    "print(type(my_integer))  # Output: <class 'int'>\n"
   ]
  },
  {
   "cell_type": "code",
   "execution_count": 10,
   "id": "0141d204",
   "metadata": {},
   "outputs": [
    {
     "name": "stdout",
     "output_type": "stream",
     "text": [
      "<class 'float'>\n"
     ]
    }
   ],
   "source": [
    "# Float example\n",
    "my_float = 3.14\n",
    "print(type(my_float))  # Output: <class 'float'>\n"
   ]
  },
  {
   "cell_type": "code",
   "execution_count": 11,
   "id": "40478427",
   "metadata": {},
   "outputs": [
    {
     "name": "stdout",
     "output_type": "stream",
     "text": [
      "<class 'int'>\n"
     ]
    }
   ],
   "source": [
    "# Binary example\n",
    "my_binary = 0b1010\n",
    "print(type(my_binary))  # Output: <class 'int'>\n"
   ]
  },
  {
   "cell_type": "code",
   "execution_count": 12,
   "id": "17ba4275",
   "metadata": {},
   "outputs": [
    {
     "name": "stdout",
     "output_type": "stream",
     "text": [
      "24\n",
      "24\n"
     ]
    }
   ],
   "source": [
    "import sys\n",
    "\n",
    "# float32 example\n",
    "my_float32 = 3.14\n",
    "print(sys.getsizeof(my_float32))  # Output: 24\n",
    "\n",
    "# float64 example\n",
    "my_float64 = 3.14\n",
    "print(sys.getsizeof(my_float64))  # Output: 32\n"
   ]
  },
  {
   "cell_type": "code",
   "execution_count": 13,
   "id": "e3e37e6e",
   "metadata": {},
   "outputs": [
    {
     "name": "stdout",
     "output_type": "stream",
     "text": [
      "<class 'list'>\n"
     ]
    }
   ],
   "source": [
    "my_list = [1, 2, 3, 4, 5]\n",
    "print(type(my_list))  # Output: <class 'list'>\n"
   ]
  },
  {
   "cell_type": "code",
   "execution_count": 14,
   "id": "5c776cd7",
   "metadata": {},
   "outputs": [
    {
     "name": "stdout",
     "output_type": "stream",
     "text": [
      "<class 'tuple'>\n"
     ]
    }
   ],
   "source": [
    "my_tuple = (1, 2, 3, 4, 5)\n",
    "print(type(my_tuple))  # Output: <class 'tuple'>\n"
   ]
  },
  {
   "cell_type": "code",
   "execution_count": 15,
   "id": "3af3a340",
   "metadata": {},
   "outputs": [
    {
     "name": "stdout",
     "output_type": "stream",
     "text": [
      "<class 'dict'>\n"
     ]
    }
   ],
   "source": [
    "my_dict = {'name': 'John', 'age': 25, 'city': 'New York'}\n",
    "print(type(my_dict))  # Output: <class 'dict'>\n"
   ]
  },
  {
   "cell_type": "code",
   "execution_count": 16,
   "id": "4c9a5d53",
   "metadata": {},
   "outputs": [
    {
     "name": "stdout",
     "output_type": "stream",
     "text": [
      "<class 'set'>\n"
     ]
    }
   ],
   "source": [
    "my_set = {1, 2, 3, 4, 5}\n",
    "print(type(my_set))  # Output: <class 'set'>\n"
   ]
  },
  {
   "cell_type": "code",
   "execution_count": 6,
   "id": "e500cdb8",
   "metadata": {},
   "outputs": [
    {
     "name": "stdout",
     "output_type": "stream",
     "text": [
      "{'Zach': 47, 'Emma': 69, 'Kelly': 76, 'Jason': 97}\n"
     ]
    }
   ],
   "source": [
    "rollNumber = [47, 64, 69, 37, 76, 83, 95, 97]\n",
    "sampleDict = {'Zach': 47, 'Emma': 69, 'Kelly': 76, 'Jason': 97}\n",
    "\n",
    "# Create a new list to store the filtered elements\n",
    "filteredRollNumber = []\n",
    "\n",
    "# Iterate through the rollNumber list\n",
    "for num in rollNumber:\n",
    "    # Check if the number exists as a value in the dictionary\n",
    "    if num not in sampleDict.values():\n",
    "        # If it doesn't exist, remove it from the list\n",
    "        filteredRollNumber.append(num)\n",
    "\n",
    "# Update the original rollNumber list with the filtered elements\n",
    "rollNumber = filteredRollNumber\n",
    "\n",
    "print(sampleDict)"
   ]
  },
  {
   "cell_type": "code",
   "execution_count": 11,
   "id": "c23bdf78",
   "metadata": {},
   "outputs": [
    {
     "name": "stdout",
     "output_type": "stream",
     "text": [
      "120\n"
     ]
    }
   ],
   "source": [
    "#Write a Python function to multiply all the numbers in a list.\n",
    "\n",
    "def multiply_list_numbers(numbers):\n",
    "    result = 1\n",
    "    for num in numbers:\n",
    "        result *= num\n",
    "    return result\n",
    "\n",
    "my_list = [2, 3, 4, 5]\n",
    "product = multiply_list_numbers(my_list)\n",
    "print(product)"
   ]
  },
  {
   "cell_type": "code",
   "execution_count": null,
   "id": "95e7b2ff",
   "metadata": {},
   "outputs": [],
   "source": []
  }
 ],
 "metadata": {
  "kernelspec": {
   "display_name": "Python 3 (ipykernel)",
   "language": "python",
   "name": "python3"
  },
  "language_info": {
   "codemirror_mode": {
    "name": "ipython",
    "version": 3
   },
   "file_extension": ".py",
   "mimetype": "text/x-python",
   "name": "python",
   "nbconvert_exporter": "python",
   "pygments_lexer": "ipython3",
   "version": "3.10.9"
  }
 },
 "nbformat": 4,
 "nbformat_minor": 5
}
