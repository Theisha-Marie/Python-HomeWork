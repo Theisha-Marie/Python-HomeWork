{
 "cells": [
  {
   "cell_type": "code",
   "execution_count": 13,
   "id": "ad94de19",
   "metadata": {},
   "outputs": [],
   "source": [
    "#Step 1. Import the necessary libraries\n",
    "\n",
    "import pandas as pd \n",
    "import numpy as np \n"
   ]
  },
  {
   "cell_type": "code",
   "execution_count": 14,
   "id": "6c3071c3",
   "metadata": {},
   "outputs": [
    {
     "data": {
      "text/html": [
       "<div>\n",
       "<style scoped>\n",
       "    .dataframe tbody tr th:only-of-type {\n",
       "        vertical-align: middle;\n",
       "    }\n",
       "\n",
       "    .dataframe tbody tr th {\n",
       "        vertical-align: top;\n",
       "    }\n",
       "\n",
       "    .dataframe thead th {\n",
       "        text-align: right;\n",
       "    }\n",
       "</style>\n",
       "<table border=\"1\" class=\"dataframe\">\n",
       "  <thead>\n",
       "    <tr style=\"text-align: right;\">\n",
       "      <th></th>\n",
       "      <th>Unnamed: 0</th>\n",
       "      <th>Id</th>\n",
       "      <th>Name</th>\n",
       "      <th>Year</th>\n",
       "      <th>Gender</th>\n",
       "      <th>State</th>\n",
       "      <th>Count</th>\n",
       "    </tr>\n",
       "  </thead>\n",
       "  <tbody>\n",
       "    <tr>\n",
       "      <th>0</th>\n",
       "      <td>11349</td>\n",
       "      <td>11350</td>\n",
       "      <td>Emma</td>\n",
       "      <td>2004</td>\n",
       "      <td>F</td>\n",
       "      <td>AK</td>\n",
       "      <td>62</td>\n",
       "    </tr>\n",
       "    <tr>\n",
       "      <th>1</th>\n",
       "      <td>11350</td>\n",
       "      <td>11351</td>\n",
       "      <td>Madison</td>\n",
       "      <td>2004</td>\n",
       "      <td>F</td>\n",
       "      <td>AK</td>\n",
       "      <td>48</td>\n",
       "    </tr>\n",
       "    <tr>\n",
       "      <th>2</th>\n",
       "      <td>11351</td>\n",
       "      <td>11352</td>\n",
       "      <td>Hannah</td>\n",
       "      <td>2004</td>\n",
       "      <td>F</td>\n",
       "      <td>AK</td>\n",
       "      <td>46</td>\n",
       "    </tr>\n",
       "    <tr>\n",
       "      <th>3</th>\n",
       "      <td>11352</td>\n",
       "      <td>11353</td>\n",
       "      <td>Grace</td>\n",
       "      <td>2004</td>\n",
       "      <td>F</td>\n",
       "      <td>AK</td>\n",
       "      <td>44</td>\n",
       "    </tr>\n",
       "    <tr>\n",
       "      <th>4</th>\n",
       "      <td>11353</td>\n",
       "      <td>11354</td>\n",
       "      <td>Emily</td>\n",
       "      <td>2004</td>\n",
       "      <td>F</td>\n",
       "      <td>AK</td>\n",
       "      <td>41</td>\n",
       "    </tr>\n",
       "  </tbody>\n",
       "</table>\n",
       "</div>"
      ],
      "text/plain": [
       "   Unnamed: 0     Id     Name  Year Gender State  Count\n",
       "0       11349  11350     Emma  2004      F    AK     62\n",
       "1       11350  11351  Madison  2004      F    AK     48\n",
       "2       11351  11352   Hannah  2004      F    AK     46\n",
       "3       11352  11353    Grace  2004      F    AK     44\n",
       "4       11353  11354    Emily  2004      F    AK     41"
      ]
     },
     "execution_count": 14,
     "metadata": {},
     "output_type": "execute_result"
    }
   ],
   "source": [
    "#Step 2. Import the dataset from this address.\n",
    "#Step 3. Assign it to a variable called baby_names.\n",
    "\n",
    "url ='https://raw.githubusercontent.com/guipsamora/pandas_exercises/master/06_Stats/US_Baby_Names/US_Baby_Names_right.csv'\n",
    "baby_names = pd.read_csv(url)\n",
    "\n",
    "baby_names.head()"
   ]
  },
  {
   "cell_type": "code",
   "execution_count": 15,
   "id": "1c1e9bcf",
   "metadata": {},
   "outputs": [
    {
     "data": {
      "text/html": [
       "<div>\n",
       "<style scoped>\n",
       "    .dataframe tbody tr th:only-of-type {\n",
       "        vertical-align: middle;\n",
       "    }\n",
       "\n",
       "    .dataframe tbody tr th {\n",
       "        vertical-align: top;\n",
       "    }\n",
       "\n",
       "    .dataframe thead th {\n",
       "        text-align: right;\n",
       "    }\n",
       "</style>\n",
       "<table border=\"1\" class=\"dataframe\">\n",
       "  <thead>\n",
       "    <tr style=\"text-align: right;\">\n",
       "      <th></th>\n",
       "      <th>Unnamed: 0</th>\n",
       "      <th>Id</th>\n",
       "      <th>Name</th>\n",
       "      <th>Year</th>\n",
       "      <th>Gender</th>\n",
       "      <th>State</th>\n",
       "      <th>Count</th>\n",
       "    </tr>\n",
       "  </thead>\n",
       "  <tbody>\n",
       "    <tr>\n",
       "      <th>0</th>\n",
       "      <td>11349</td>\n",
       "      <td>11350</td>\n",
       "      <td>Emma</td>\n",
       "      <td>2004</td>\n",
       "      <td>F</td>\n",
       "      <td>AK</td>\n",
       "      <td>62</td>\n",
       "    </tr>\n",
       "    <tr>\n",
       "      <th>1</th>\n",
       "      <td>11350</td>\n",
       "      <td>11351</td>\n",
       "      <td>Madison</td>\n",
       "      <td>2004</td>\n",
       "      <td>F</td>\n",
       "      <td>AK</td>\n",
       "      <td>48</td>\n",
       "    </tr>\n",
       "    <tr>\n",
       "      <th>2</th>\n",
       "      <td>11351</td>\n",
       "      <td>11352</td>\n",
       "      <td>Hannah</td>\n",
       "      <td>2004</td>\n",
       "      <td>F</td>\n",
       "      <td>AK</td>\n",
       "      <td>46</td>\n",
       "    </tr>\n",
       "    <tr>\n",
       "      <th>3</th>\n",
       "      <td>11352</td>\n",
       "      <td>11353</td>\n",
       "      <td>Grace</td>\n",
       "      <td>2004</td>\n",
       "      <td>F</td>\n",
       "      <td>AK</td>\n",
       "      <td>44</td>\n",
       "    </tr>\n",
       "    <tr>\n",
       "      <th>4</th>\n",
       "      <td>11353</td>\n",
       "      <td>11354</td>\n",
       "      <td>Emily</td>\n",
       "      <td>2004</td>\n",
       "      <td>F</td>\n",
       "      <td>AK</td>\n",
       "      <td>41</td>\n",
       "    </tr>\n",
       "    <tr>\n",
       "      <th>5</th>\n",
       "      <td>11354</td>\n",
       "      <td>11355</td>\n",
       "      <td>Abigail</td>\n",
       "      <td>2004</td>\n",
       "      <td>F</td>\n",
       "      <td>AK</td>\n",
       "      <td>37</td>\n",
       "    </tr>\n",
       "    <tr>\n",
       "      <th>6</th>\n",
       "      <td>11355</td>\n",
       "      <td>11356</td>\n",
       "      <td>Olivia</td>\n",
       "      <td>2004</td>\n",
       "      <td>F</td>\n",
       "      <td>AK</td>\n",
       "      <td>33</td>\n",
       "    </tr>\n",
       "    <tr>\n",
       "      <th>7</th>\n",
       "      <td>11356</td>\n",
       "      <td>11357</td>\n",
       "      <td>Isabella</td>\n",
       "      <td>2004</td>\n",
       "      <td>F</td>\n",
       "      <td>AK</td>\n",
       "      <td>30</td>\n",
       "    </tr>\n",
       "    <tr>\n",
       "      <th>8</th>\n",
       "      <td>11357</td>\n",
       "      <td>11358</td>\n",
       "      <td>Alyssa</td>\n",
       "      <td>2004</td>\n",
       "      <td>F</td>\n",
       "      <td>AK</td>\n",
       "      <td>29</td>\n",
       "    </tr>\n",
       "    <tr>\n",
       "      <th>9</th>\n",
       "      <td>11358</td>\n",
       "      <td>11359</td>\n",
       "      <td>Sophia</td>\n",
       "      <td>2004</td>\n",
       "      <td>F</td>\n",
       "      <td>AK</td>\n",
       "      <td>28</td>\n",
       "    </tr>\n",
       "  </tbody>\n",
       "</table>\n",
       "</div>"
      ],
      "text/plain": [
       "   Unnamed: 0     Id      Name  Year Gender State  Count\n",
       "0       11349  11350      Emma  2004      F    AK     62\n",
       "1       11350  11351   Madison  2004      F    AK     48\n",
       "2       11351  11352    Hannah  2004      F    AK     46\n",
       "3       11352  11353     Grace  2004      F    AK     44\n",
       "4       11353  11354     Emily  2004      F    AK     41\n",
       "5       11354  11355   Abigail  2004      F    AK     37\n",
       "6       11355  11356    Olivia  2004      F    AK     33\n",
       "7       11356  11357  Isabella  2004      F    AK     30\n",
       "8       11357  11358    Alyssa  2004      F    AK     29\n",
       "9       11358  11359    Sophia  2004      F    AK     28"
      ]
     },
     "execution_count": 15,
     "metadata": {},
     "output_type": "execute_result"
    }
   ],
   "source": [
    "#Step 4. See the first 10 entries\n",
    "\n",
    "baby_names.head(10)"
   ]
  },
  {
   "cell_type": "code",
   "execution_count": 16,
   "id": "c003cbc6",
   "metadata": {},
   "outputs": [
    {
     "name": "stdout",
     "output_type": "stream",
     "text": [
      "      Name  Year Gender State  Count\n",
      "0     Emma  2004      F    AK     62\n",
      "1  Madison  2004      F    AK     48\n",
      "2   Hannah  2004      F    AK     46\n",
      "3    Grace  2004      F    AK     44\n",
      "4    Emily  2004      F    AK     41\n"
     ]
    }
   ],
   "source": [
    "#Step 5. Delete the column 'Unnamed: 0' and 'Id'\n",
    "\n",
    "\n",
    "# Drop the columns 'Unnamed: 0' and 'Id'\n",
    "baby_names.drop(['Unnamed: 0', 'Id'], axis=1, inplace=True)\n",
    "\n",
    "# Display the first few rows of the DataFrame after dropping the columns\n",
    "print(baby_names.head())"
   ]
  },
  {
   "cell_type": "code",
   "execution_count": 17,
   "id": "dc387f51",
   "metadata": {},
   "outputs": [
    {
     "name": "stdout",
     "output_type": "stream",
     "text": [
      "F    558846\n",
      "M    457549\n",
      "Name: Gender, dtype: int64\n"
     ]
    }
   ],
   "source": [
    "#Step 6. Is there more male or female names in the dataset?\n",
    "\n",
    "# Count the occurrences of each gender\n",
    "gender_counts = baby_names['Gender'].value_counts()\n",
    "\n",
    "# Display the gender counts\n",
    "print(gender_counts)"
   ]
  },
  {
   "cell_type": "code",
   "execution_count": 18,
   "id": "d1ad09f3",
   "metadata": {},
   "outputs": [
    {
     "name": "stdout",
     "output_type": "stream",
     "text": [
      "         Year  Gender  State  Count\n",
      "Name                               \n",
      "Aaban       2       2      2      2\n",
      "Aadan       4       4      4      4\n",
      "Aadarsh     1       1      1      1\n",
      "Aaden     196     196    196    196\n",
      "Aadhav      1       1      1      1\n"
     ]
    }
   ],
   "source": [
    "#Step 7. Group the dataset by name and assign to names\n",
    "\n",
    "# Group the dataset by name and store the grouped object in 'names'\n",
    "names = baby_names.groupby('Name').count()\n",
    "\n",
    "# Display the first few rows of the grouped object 'names'\n",
    "print(names.head())"
   ]
  },
  {
   "cell_type": "code",
   "execution_count": 21,
   "id": "d811d3fc",
   "metadata": {},
   "outputs": [
    {
     "name": "stdout",
     "output_type": "stream",
     "text": [
      "Number of different names: 17632\n"
     ]
    }
   ],
   "source": [
    "#Step 8. How many different names exist in the dataset?\n",
    "\n",
    "# Count the number of different names in the dataset\n",
    "num_different_names = baby_names['Name'].nunique()\n",
    "\n",
    "# Display the result\n",
    "print(\"Number of different names:\", num_different_names)"
   ]
  },
  {
   "cell_type": "code",
   "execution_count": 22,
   "id": "f0bbd8af",
   "metadata": {},
   "outputs": [
    {
     "name": "stdout",
     "output_type": "stream",
     "text": [
      "The name with the most occurrences is: Riley\n"
     ]
    }
   ],
   "source": [
    "#Step 9. What is the name with most occurrences?\n",
    "\n",
    "# Count the occurrences of each name and find the most common name\n",
    "most_common_name = baby_names['Name'].value_counts().idxmax()\n",
    "\n",
    "# Display the result\n",
    "print(\"The name with the most occurrences is:\", most_common_name)\n"
   ]
  },
  {
   "cell_type": "code",
   "execution_count": 24,
   "id": "b891bea6",
   "metadata": {},
   "outputs": [
    {
     "name": "stdout",
     "output_type": "stream",
     "text": [
      "names with the least occurence is: Grettell\n"
     ]
    }
   ],
   "source": [
    "#Step 10. How many different names have the least occurrences?\n",
    "\n",
    "names_least_common = baby_names['Name'].value_counts().idxmin()\n",
    "\n",
    "print(\"names with the least occurence is:\", names_least_common)"
   ]
  },
  {
   "cell_type": "code",
   "execution_count": 31,
   "id": "15ee9ccd",
   "metadata": {},
   "outputs": [
    {
     "name": "stdout",
     "output_type": "stream",
     "text": [
      "Median Names for Boys:\n",
      "  Boys Median Names\n",
      "0              Koji\n",
      "1             Riaan\n",
      "2           Maximos\n",
      "3            Maciej\n",
      "4           Sanchez\n",
      "\n",
      "Median Names for Girls:\n",
      "  Girls Median Names\n",
      "0              Solei\n",
      "1          Charmaine\n",
      "2               Vita\n",
      "3           Braleigh\n",
      "4        Mariaisabel\n"
     ]
    }
   ],
   "source": [
    "#Step 11. What is the median name occurrence?\n",
    "\n",
    "\n",
    "\n",
    "# Separate DataFrames for boys and girls\n",
    "boys_names = baby_names[baby_names['Gender'] == 'M']\n",
    "girls_names = baby_names[baby_names['Gender'] == 'F']\n",
    "\n",
    "# Count the occurrences of each name for boys and girls\n",
    "boys_name_counts = boys_names['Name'].value_counts()\n",
    "girls_name_counts = girls_names['Name'].value_counts()\n",
    "\n",
    "# Calculate the median of the name occurrences for boys and girls\n",
    "median_boys_name_occurrence = boys_name_counts.median()\n",
    "median_girls_name_occurrence = girls_name_counts.median()\n",
    "\n",
    "# Filter names that occur at the median frequency for boys and girls\n",
    "median_boys_names = boys_name_counts[boys_name_counts == median_boys_name_occurrence].index.tolist()\n",
    "median_girls_names = girls_name_counts[girls_name_counts == median_girls_name_occurrence].index.tolist()\n",
    "\n",
    "# Create DataFrames for the median names for boys and girls\n",
    "median_boys_df = pd.DataFrame({'Boys Median Names': median_boys_names})\n",
    "median_girls_df = pd.DataFrame({'Girls Median Names': median_girls_names})\n",
    "\n",
    "# Drop any duplicate names\n",
    "median_boys_df.drop_duplicates(inplace=True)\n",
    "median_girls_df.drop_duplicates(inplace=True)\n",
    "\n",
    "# Display the result\n",
    "print(\"Median Names for Boys:\")\n",
    "print(median_boys_df.head())\n",
    "\n",
    "print(\"\\nMedian Names for Girls:\")\n",
    "print(median_girls_df.head())\n",
    "\n"
   ]
  },
  {
   "cell_type": "code",
   "execution_count": 37,
   "id": "f62fbbd5",
   "metadata": {},
   "outputs": [
    {
     "name": "stdout",
     "output_type": "stream",
     "text": [
      "Standard Deviation of Name Occurrences for Boys:\n",
      "         Boys Names Boys Names\n",
      "0        117.632759        NaN\n",
      "2404            NaN      Ethan\n",
      "2405            NaN     Joseph\n",
      "2406            NaN      James\n",
      "2407            NaN      Jacob\n",
      "...             ...        ...\n",
      "997507          NaN       Kong\n",
      "999866          NaN     Adrion\n",
      "1000541         NaN      Braun\n",
      "1000722         NaN     Evrett\n",
      "1012216         NaN    Coalton\n",
      "\n",
      "[8013 rows x 2 columns]\n",
      "\n",
      "Standard Deviation of Name Occurrences for Girls:\n",
      "       Girls Names Girls Names\n",
      "0       106.735392        Emma\n",
      "1              NaN     Madison\n",
      "2              NaN      Hannah\n",
      "3              NaN       Grace\n",
      "4              NaN       Emily\n",
      "...            ...         ...\n",
      "974367         NaN     Imogene\n",
      "986337         NaN    Montanna\n",
      "988094         NaN       Anaka\n",
      "991043         NaN     Shouana\n",
      "993126         NaN      Luanna\n",
      "\n",
      "[10929 rows x 2 columns]\n"
     ]
    }
   ],
   "source": [
    "#Step 12. What is the standard deviation of names?\n",
    "\n",
    "\n",
    "\n",
    "# Separate DataFrames for boys and girls\n",
    "boys_names = baby_names[baby_names['Gender'] == 'M'].copy()\n",
    "girls_names = baby_names[baby_names['Gender'] == 'F'].copy()\n",
    "\n",
    "# Count the occurrences of each name for boys and girls\n",
    "boys_name_counts = boys_names['Name'].value_counts()\n",
    "girls_name_counts = girls_names['Name'].value_counts()\n",
    "\n",
    "# Calculate the standard deviation of the name occurrences for boys and girls\n",
    "boys_names_std = boys_name_counts.std()\n",
    "girls_names_std = girls_name_counts.std()\n",
    "\n",
    "# Create DataFrames for standard deviation of names for boys and girls\n",
    "boys_names_std_df = pd.DataFrame({'Boys Names': [boys_names_std]})\n",
    "girls_names_std_df = pd.DataFrame({'Girls Names': [girls_names_std]})\n",
    "\n",
    "# Drop any duplicate names\n",
    "boys_names.drop_duplicates(subset='Name', inplace=True)\n",
    "girls_names.drop_duplicates(subset='Name', inplace=True)\n",
    "\n",
    "# Add names to the DataFrames\n",
    "boys_names_df = pd.DataFrame({'Boys Names': boys_names['Name']})\n",
    "girls_names_df = pd.DataFrame({'Girls Names': girls_names['Name']})\n",
    "\n",
    "# Display the result\n",
    "print(\"Standard Deviation of Name Occurrences for Boys:\")\n",
    "print(pd.concat([boys_names_std_df, boys_names_df], axis=1))\n",
    "\n",
    "print(\"\\nStandard Deviation of Name Occurrences for Girls:\")\n",
    "print(pd.concat([girls_names_std_df, girls_names_df], axis=1))\n"
   ]
  },
  {
   "cell_type": "code",
   "execution_count": 42,
   "id": "f161a697",
   "metadata": {},
   "outputs": [
    {
     "data": {
      "image/png": "[encoded data removed]",
      "text/plain": [
       "<Figure size 1000x600 with 1 Axes>"
      ]
     },
     "metadata": {},
     "output_type": "display_data"
    }
   ],
   "source": [
    "#Step 13. Get a summary with the mean, min, max, std and quartiles.\n",
    "\n",
    "import pandas as pd\n",
    "import matplotlib.pyplot as plt\n",
    "\n",
    "\n",
    "# Count the occurrences of each name\n",
    "name_counts = baby_names['Name'].value_counts()\n",
    "\n",
    "# Get a summary with the mean, min, max, std, and quartiles\n",
    "name_summary = name_counts.describe()\n",
    "\n",
    "# Create a bar chart\n",
    "plt.figure(figsize=(10, 6))\n",
    "plt.bar(name_summary.index, name_summary.values)\n",
    "plt.xlabel('Summary Statistics')\n",
    "plt.ylabel('Value')\n",
    "plt.title('Summary Statistics of Name Occurrences')\n",
    "plt.xticks(rotation=45)\n",
    "plt.show()\n"
   ]
  },
  {
   "cell_type": "code",
   "execution_count": null,
   "id": "712ab180",
   "metadata": {},
   "outputs": [],
   "source": []
  }
 ],
 "metadata": {
  "kernelspec": {
   "display_name": "Python 3 (ipykernel)",
   "language": "python",
   "name": "python3"
  },
  "language_info": {
   "codemirror_mode": {
    "name": "ipython",
    "version": 3
   },
   "file_extension": ".py",
   "mimetype": "text/x-python",
   "name": "python",
   "nbconvert_exporter": "python",
   "pygments_lexer": "ipython3",
   "version": "3.10.9"
  }
 },
 "nbformat": 4,
 "nbformat_minor": 5
}
