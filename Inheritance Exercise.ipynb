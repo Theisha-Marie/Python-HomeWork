{
 "cells": [
  {
   "cell_type": "code",
   "execution_count": null,
   "id": "886555b2",
   "metadata": {},
   "outputs": [],
   "source": [
    "class Person:\n",
    "    def __init__(self, firstName, lastName, idNumber):\n",
    "        self.firstName = firstName\n",
    "        self.lastName = lastName\n",
    "        self.idNumber = idNumber\n",
    "\n",
    "    def printPerson(self):\n",
    "        print(f\"Name: {self.lastName}, {self.firstName}\")\n",
    "        print(f\"ID: {self.idNumber}\")\n",
    "\n",
    "\n",
    "class Student(Person):\n",
    "    def __init__(self, firstName, lastName, idNumber, scores):\n",
    "        super().__init__(firstName, lastName, idNumber)\n",
    "        self.scores = scores\n",
    "\n",
    "    def calculate(self):\n",
    "        average = sum(self.scores) / len(self.scores)\n",
    "        if 90 <= average <= 100:\n",
    "            return 'A'\n",
    "        elif 80 <= average:\n",
    "            return 'B'\n",
    "        elif 70 <= average:\n",
    "            return 'C'\n",
    "        elif 60 <= average:\n",
    "            return 'D'\n",
    "        else:\n",
    "            return 'F'\n",
    "\n",
    "\n",
    "if __name__ == \"__main__\":\n",
    "    firstName, lastName, idNum = input().split()\n",
    "    idNum = int(idNum)\n",
    "    scores = list(map(int, input().split()))\n",
    "\n",
    "    s = Student(firstName, lastName, idNum, scores)\n",
    "    s.printPerson()\n",
    "    print(\"Grade:\", s.calculate())\n"
   ]
  },
  {
   "cell_type": "code",
   "execution_count": null,
   "id": "caa861ad",
   "metadata": {},
   "outputs": [],
   "source": []
  },
  {
   "cell_type": "code",
   "execution_count": null,
   "id": "ede4687a",
   "metadata": {},
   "outputs": [],
   "source": []
  }
 ],
 "metadata": {
  "kernelspec": {
   "display_name": "Python 3 (ipykernel)",
   "language": "python",
   "name": "python3"
  },
  "language_info": {
   "codemirror_mode": {
    "name": "ipython",
    "version": 3
   },
   "file_extension": ".py",
   "mimetype": "text/x-python",
   "name": "python",
   "nbconvert_exporter": "python",
   "pygments_lexer": "ipython3",
   "version": "3.10.9"
  }
 },
 "nbformat": 4,
 "nbformat_minor": 5
}
