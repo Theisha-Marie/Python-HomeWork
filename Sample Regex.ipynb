{
 "cells": [
  {
   "cell_type": "code",
   "execution_count": 7,
   "id": "39ec8cb9",
   "metadata": {},
   "outputs": [
    {
     "name": "stdout",
     "output_type": "stream",
     "text": [
      "He (Putin) is the president of Russia.\n",
      "He’s a powerful man.\n"
     ]
    }
   ],
   "source": [
    "import re\n",
    "str = \"\"\"He is the president of Russia.\n",
    "He’s a powerful man.\"\"\"\n",
    "newstr = re.sub(r'(\\b[Hh]e\\b)', r'\\1 (Putin)', str, 1)\n",
    "print (newstr)"
   ]
  },
  {
   "cell_type": "code",
   "execution_count": 8,
   "id": "60fae0b0",
   "metadata": {},
   "outputs": [
    {
     "name": "stdout",
     "output_type": "stream",
     "text": [
      "Matched groups: ('45', '890')\n",
      "Group 1: 45\n",
      "Group 0: 123 45 67 890\n",
      "Start index of Group 1: 10\n",
      "End index of Group 1: 12\n",
      "Span of Group 1: (10, 12)\n",
      "Match found: True\n"
     ]
    }
   ],
   "source": [
    "import re\n",
    "\n",
    "pattern = r'\\d+ (\\d+) \\d+ (\\d+)'\n",
    "string = 'first 123 45 67 890 last'\n",
    "\n",
    "mo = re.search(pattern, string)\n",
    "\n",
    "if mo:\n",
    "    groups = mo.groups()\n",
    "    print(\"Matched groups:\", groups)\n",
    "    \n",
    "    group1 = mo.group(1)\n",
    "    group0 = mo.group(0)\n",
    "    print(\"Group 1:\", group1)\n",
    "    print(\"Group 0:\", group0)\n",
    "    \n",
    "    start1 = mo.start(1)\n",
    "    end1 = mo.end(1)\n",
    "    print(\"Start index of Group 1:\", start1)\n",
    "    print(\"End index of Group 1:\", end1)\n",
    "    \n",
    "    span1 = mo.span(1)\n",
    "    print(\"Span of Group 1:\", span1)\n",
    "    \n",
    "    found = bool(mo)\n",
    "    print(\"Match found:\", found)\n",
    "else:\n",
    "    print(\"No match found.\")\n"
   ]
  },
  {
   "cell_type": "code",
   "execution_count": 9,
   "id": "17ed5bfd",
   "metadata": {},
   "outputs": [
    {
     "data": {
      "text/plain": [
       "['12', '34', '-43', '+12']"
      ]
     },
     "execution_count": 9,
     "metadata": {},
     "output_type": "execute_result"
    }
   ],
   "source": [
    "import re\n",
    "re.findall(r'[+-]?\\d+', \"  afd [asd] [12 ] [a34]  [ -43 ]tt [+12]xxx\")"
   ]
  },
  {
   "cell_type": "code",
   "execution_count": 10,
   "id": "ddffbe38",
   "metadata": {},
   "outputs": [
    {
     "data": {
      "text/plain": [
       "[195, 164]"
      ]
     },
     "execution_count": 10,
     "metadata": {},
     "output_type": "execute_result"
    }
   ],
   "source": [
    "list(\"ä\".encode(\"utf-8\"))              # Show as a list of integers"
   ]
  }
 ],
 "metadata": {
  "kernelspec": {
   "display_name": "Python 3 (ipykernel)",
   "language": "python",
   "name": "python3"
  },
  "language_info": {
   "codemirror_mode": {
    "name": "ipython",
    "version": 3
   },
   "file_extension": ".py",
   "mimetype": "text/x-python",
   "name": "python",
   "nbconvert_exporter": "python",
   "pygments_lexer": "ipython3",
   "version": "3.10.9"
  }
 },
 "nbformat": 4,
 "nbformat_minor": 5
}
