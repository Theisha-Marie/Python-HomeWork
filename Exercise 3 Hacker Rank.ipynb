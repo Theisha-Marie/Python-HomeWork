{
 "cells": [
  {
   "cell_type": "code",
   "execution_count": null,
   "id": "20315bdc",
   "metadata": {},
   "outputs": [],
   "source": [
    "from itertools import combinations_with_replacement\n",
    "\n",
    "string, k = input().split()\n",
    "k = int(k)\n",
    "\n",
    "combinations = list(combinations_with_replacement(sorted(string), k))\n",
    "\n",
    "for combination in combinations:\n",
    "    print(''.join(combination))\n"
   ]
  },
  {
   "cell_type": "code",
   "execution_count": null,
   "id": "1463ef13",
   "metadata": {},
   "outputs": [],
   "source": []
  }
 ],
 "metadata": {
  "kernelspec": {
   "display_name": "Python 3 (ipykernel)",
   "language": "python",
   "name": "python3"
  },
  "language_info": {
   "codemirror_mode": {
    "name": "ipython",
    "version": 3
   },
   "file_extension": ".py",
   "mimetype": "text/x-python",
   "name": "python",
   "nbconvert_exporter": "python",
   "pygments_lexer": "ipython3",
   "version": "3.10.9"
  }
 },
 "nbformat": 4,
 "nbformat_minor": 5
}
