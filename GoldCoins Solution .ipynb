{
 "cells": [
  {
   "cell_type": "code",
   "execution_count": 1,
   "id": "1ec43f2b",
   "metadata": {},
   "outputs": [
    {
     "name": "stdout",
     "output_type": "stream",
     "text": [
      "2\n",
      "3\n",
      "3\n"
     ]
    }
   ],
   "source": [
    "def solution(coins):\n",
    "  bronze_count = 0\n",
    "  silver_count = 0\n",
    "  gold_count = 0\n",
    "  \n",
    "  for coin in coins:\n",
    "    if coin == 'B':\n",
    "      bronze_count += 1\n",
    "    elif coin == 'S':\n",
    "      silver_count += 1\n",
    "    elif coin == 'G':\n",
    "      gold_count += 1\n",
    "\n",
    "  while bronze_count >= 3 or silver_count >= 3:\n",
    "    if bronze_count >= 3:\n",
    "      exchangeable_gold = bronze_count // 3\n",
    "      bronze_count -= exchangeable_gold * 3\n",
    "    if silver_count >= 3:  \n",
    "      exchangeable_gold = silver_count // 3\n",
    "      silver_count -= exchangeable_gold * 3\n",
    "    gold_count += exchangeable_gold\n",
    "  \n",
    "  remaining_gold = min(bronze_count // 3, silver_count // 3)\n",
    "  gold_count += remaining_gold\n",
    "\n",
    "  return gold_count\n",
    "\n",
    "print(solution(\"SSGS\"))\n",
    "print(solution(\"BGBSGSBB\"))\n",
    "print(solution(\"BBBBBSSSSGG\"))"
   ]
  }
 ],
 "metadata": {
  "kernelspec": {
   "display_name": "Python 3 (ipykernel)",
   "language": "python",
   "name": "python3"
  },
  "language_info": {
   "codemirror_mode": {
    "name": "ipython",
    "version": 3
   },
   "file_extension": ".py",
   "mimetype": "text/x-python",
   "name": "python",
   "nbconvert_exporter": "python",
   "pygments_lexer": "ipython3",
   "version": "3.10.9"
  }
 },
 "nbformat": 4,
 "nbformat_minor": 5
}
