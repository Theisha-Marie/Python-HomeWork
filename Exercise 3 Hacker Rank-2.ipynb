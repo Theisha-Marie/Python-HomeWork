{
 "cells": [
  {
   "cell_type": "code",
   "execution_count": null,
   "id": "20315bdc",
   "metadata": {},
   "outputs": [],
   "source": [
    "from itertools import combinations_with_replacement\n",
    "\n",
    "string, k = input().split()\n",
    "k = int(k)\n",
    "\n",
    "combinations = list(combinations_with_replacement(sorted(string), k))\n",
    "\n",
    "for combination in combinations:\n",
    "    print(''.join(combination))\n"
   ]
  },
  {
   "cell_type": "code",
   "execution_count": null,
   "id": "1463ef13",
   "metadata": {},
   "outputs": [],
   "source": [
    "from itertools import permutations\n",
    "\n",
    "string, k = input().split()\n",
    "k = int(k)\n",
    "\n",
    "perms = list(permutations(sorted(string), k))\n",
    "\n",
    "for perm in perms:\n",
    "    print(''.join(perm))\n"
   ]
  },
  {
   "cell_type": "code",
   "execution_count": null,
   "id": "c572c68b",
   "metadata": {},
   "outputs": [],
   "source": [
    "from itertools import combinations\n",
    "\n",
    "string, k = input().split()\n",
    "k = int(k)\n",
    "\n",
    "for r in range(1, k+1):\n",
    "    combs = list(combinations(sorted(string), r))\n",
    "    for comb in combs:\n",
    "        print(''.join(comb))\n"
   ]
  },
  {
   "cell_type": "code",
   "execution_count": null,
   "id": "4be73a51",
   "metadata": {},
   "outputs": [],
   "source": [
    "from itertools import combinations_with_replacement\n",
    "\n",
    "string, k = input().split()\n",
    "k = int(k)\n",
    "\n",
    "combs = list(combinations_with_replacement(sorted(string), k))\n",
    "\n",
    "for comb in combs:\n",
    "    print(''.join(comb))"
   ]
  },
  {
   "cell_type": "code",
   "execution_count": null,
   "id": "45510e12",
   "metadata": {},
   "outputs": [],
   "source": [
    "string = input()\n",
    "\n",
    "consecutive_occurrences = []\n",
    "\n",
    "count = 1\n",
    "for i in range(1, len(string)):\n",
    "    if string[i] == string[i - 1]:\n",
    "        count += 1\n",
    "    else:\n",
    "        consecutive_occurrences.append((count, string[i - 1]))\n",
    "        count = 1\n",
    "\n",
    "consecutive_occurrences.append((count, string[-1]))\n",
    "\n",
    "output = ' '.join(['({}, {})'.format(count, char) for count, char in consecutive_occurrences])\n",
    "print(output)\n"
   ]
  },
  {
   "cell_type": "code",
   "execution_count": null,
   "id": "ab7c3ba7",
   "metadata": {},
   "outputs": [],
   "source": [
    "from itertools import combinations\n",
    "\n",
    "n = int(input())  # Length of the list\n",
    "letters = input().split()  # Elements of the list\n",
    "k = int(input())  # Number of indices to be selected\n",
    "\n",
    "total_combinations = len(list(combinations(range(n), k)))  # Total number of possible combinations\n",
    "valid_combinations = sum('a' in subset for subset in combinations(letters, k))  # Number of valid combinations\n",
    "\n",
    "probability = valid_combinations / total_combinations\n",
    "\n",
    "print(format(probability, \".4f\"))\n"
   ]
  },
  {
   "cell_type": "code",
   "execution_count": null,
   "id": "f06f35f2",
   "metadata": {},
   "outputs": [],
   "source": [
    "from itertools import product\n",
    "\n",
    "n, m = map(int, input().split())  # Number of lists, modulo value\n",
    "\n",
    "lists = []\n",
    "for _ in range(n):\n",
    "    elements = list(map(int, input().split()[1:]))  # Elements of each list\n",
    "    lists.append(elements)\n",
    "\n",
    "max_modulo = 0\n",
    "\n",
    "# Generate all possible combinations of elements from each list\n",
    "combinations = product(*lists)\n",
    "\n",
    "for comb in combinations:\n",
    "    modulo_value = sum(element**2 for element in comb) % m  # Calculate the modulo value\n",
    "    max_modulo = max(max_modulo, modulo_value)  # Update the maximum modulo value\n",
    "\n",
    "print(max_modulo)\n"
   ]
  }
 ],
 "metadata": {
  "kernelspec": {
   "display_name": "Python 3 (ipykernel)",
   "language": "python",
   "name": "python3"
  },
  "language_info": {
   "codemirror_mode": {
    "name": "ipython",
    "version": 3
   },
   "file_extension": ".py",
   "mimetype": "text/x-python",
   "name": "python",
   "nbconvert_exporter": "python",
   "pygments_lexer": "ipython3",
   "version": "3.10.9"
  }
 },
 "nbformat": 4,
 "nbformat_minor": 5
}
